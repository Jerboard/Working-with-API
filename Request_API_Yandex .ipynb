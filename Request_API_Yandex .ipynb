{
 "cells": [
  {
   "cell_type": "markdown",
   "id": "d4b20e82",
   "metadata": {},
   "source": [
    "### Initially, the comments were written in Russian. Translated by Google Translator\n",
    "\n",
    "### Изначально комментарии были написаны на русском языке. Переведены через Google-переводчик"
   ]
  },
  {
   "cell_type": "markdown",
   "id": "ed798b7c",
   "metadata": {},
   "source": [
    "# Task:\n",
    "Collect data on the number, sources and time of bot activity on the site via the Yandex Metrica API."
   ]
  },
  {
   "cell_type": "markdown",
   "id": "2693c6df",
   "metadata": {},
   "source": [
    "# Задача:\n",
    "Собрать данные по количеству, источникам и времени активности ботов на сайте через API Яндекс метрики."
   ]
  },
  {
   "cell_type": "code",
   "execution_count": 1,
   "id": "fc3b26c1",
   "metadata": {},
   "outputs": [],
   "source": [
    "# import the necessary tools\n",
    "# импортируем нужные инструменты\n",
    "import pandas as pd\n",
    "import json \n",
    "import requests\n",
    "%matplotlib inline\n",
    "import matplotlib.pyplot as plt"
   ]
  },
  {
   "cell_type": "code",
   "execution_count": 2,
   "id": "d876aca3",
   "metadata": {},
   "outputs": [
    {
     "name": "stdout",
     "output_type": "stream",
     "text": [
      "200\n"
     ]
    }
   ],
   "source": [
    "# we collect data: the number of visits, the percentage of robots from the number of all visitors and the source of traffic\n",
    "# собираем данные: количество визитов, процент роботов от количества всех посетителей и источник трафика\n",
    "token='AQAAAAAaRuwjAAdk9yp6ABFXrUeZi1HCEiS1VRc'\n",
    "headers = {'Authorization': 'OAuth ' + token}\n",
    "\n",
    "params = {'metrics': 'ym:s:visits,ym:s:robotPercentage',\n",
    "          'dimensions':'ym:s:lastSignSearchEngine',\n",
    "          'date1': '2020-09-01',  \n",
    "          'date2': '2020-09-30',     \n",
    "          'ids': 30177909,\n",
    "          'accuracy':'full',\n",
    "          'limit':100000}\n",
    "\n",
    "response = requests.get('https://api-metrika.yandex.net/stat/v1/data', params=params, headers=headers)\n",
    "print (response.status_code)\n",
    "\n",
    "metrika_data=response.json()"
   ]
  },
  {
   "cell_type": "code",
   "execution_count": 3,
   "id": "5cb3b4b3",
   "metadata": {},
   "outputs": [],
   "source": [
    "# writing a function that converts the received jso- file into a list of dictionaries to create a dataframe\n",
    "# пишем функцию которая конвертирует полученный json-файл в список словарей, для создания датафрейма\n",
    "def get_list_of_dicts(metrika_data):\n",
    "    list_of_dicts = []\n",
    "    dimensions_list = metrika_data['query']['dimensions']\n",
    "    metrics_list = metrika_data['query']['metrics']\n",
    "    for data_item in metrika_data['data']:\n",
    "        d = {}\n",
    "        for i,dimension in enumerate(data_item['dimensions']):\n",
    "            d[dimensions_list[i]] = dimension['name']\n",
    "        for i,metric in enumerate(data_item['metrics']):\n",
    "            d[metrics_list[i]] = metric\n",
    "        list_of_dicts.append(d)\n",
    "    return list_of_dicts"
   ]
  },
  {
   "cell_type": "code",
   "execution_count": 4,
   "id": "225be249",
   "metadata": {},
   "outputs": [],
   "source": [
    "# form a dataframe based on the resulting list of dictionaries\n",
    "# формируем датафрейм на основе получившегося списка словарей\n",
    "robot_visits_percent_df = pd.DataFrame(get_list_of_dicts(metrika_data))\n",
    "# giving the columns clear values\n",
    "# даём столбцам понятные значения\n",
    "robot_visits_percent_df.columns=['source','visits_count','percent_bots']"
   ]
  },
  {
   "cell_type": "code",
   "execution_count": 5,
   "id": "24adf50d",
   "metadata": {},
   "outputs": [
    {
     "name": "stdout",
     "output_type": "stream",
     "text": [
      "200\n"
     ]
    }
   ],
   "source": [
    "# requesting data on the time of the visit and the percentage of bots\n",
    "# запрашиваем данные по времени визита и проценту ботов\n",
    "token='AQAAAAAaRuwjAAdk9yp6ABFXrUeZi1HCEiS1VRc'\n",
    "headers = {'Authorization': 'OAuth ' + token}\n",
    "\n",
    "params = {'metrics': 'ym:s:visits',\n",
    "          'dimensions': 'ym:s:isRobot,ym:s:hour',  \n",
    "          'date1': '2020-09-01',  \n",
    "          'date2': '2020-09-30',     \n",
    "          'ids': 30177909,\n",
    "          'accuracy':'full',\n",
    "          'limit':100000}\n",
    "\n",
    "response = requests.get('https://api-metrika.yandex.net/stat/v1/data', params=params, headers=headers)\n",
    "print (response.status_code)\n",
    "\n",
    "metrika_data_1=response.json()"
   ]
  },
  {
   "cell_type": "code",
   "execution_count": 6,
   "id": "7dfd8590",
   "metadata": {},
   "outputs": [
    {
     "data": {
      "text/html": [
       "<div>\n",
       "<style scoped>\n",
       "    .dataframe tbody tr th:only-of-type {\n",
       "        vertical-align: middle;\n",
       "    }\n",
       "\n",
       "    .dataframe tbody tr th {\n",
       "        vertical-align: top;\n",
       "    }\n",
       "\n",
       "    .dataframe thead th {\n",
       "        text-align: right;\n",
       "    }\n",
       "</style>\n",
       "<table border=\"1\" class=\"dataframe\">\n",
       "  <thead>\n",
       "    <tr style=\"text-align: right;\">\n",
       "      <th></th>\n",
       "      <th>type</th>\n",
       "      <th>time_hour</th>\n",
       "      <th>visits_count</th>\n",
       "    </tr>\n",
       "  </thead>\n",
       "  <tbody>\n",
       "    <tr>\n",
       "      <th>0</th>\n",
       "      <td>People</td>\n",
       "      <td>16:00</td>\n",
       "      <td>235.0</td>\n",
       "    </tr>\n",
       "    <tr>\n",
       "      <th>1</th>\n",
       "      <td>People</td>\n",
       "      <td>12:00</td>\n",
       "      <td>228.0</td>\n",
       "    </tr>\n",
       "    <tr>\n",
       "      <th>2</th>\n",
       "      <td>People</td>\n",
       "      <td>14:00</td>\n",
       "      <td>226.0</td>\n",
       "    </tr>\n",
       "    <tr>\n",
       "      <th>3</th>\n",
       "      <td>People</td>\n",
       "      <td>15:00</td>\n",
       "      <td>226.0</td>\n",
       "    </tr>\n",
       "    <tr>\n",
       "      <th>4</th>\n",
       "      <td>People</td>\n",
       "      <td>11:00</td>\n",
       "      <td>212.0</td>\n",
       "    </tr>\n",
       "  </tbody>\n",
       "</table>\n",
       "</div>"
      ],
      "text/plain": [
       "     type time_hour  visits_count\n",
       "0  People     16:00         235.0\n",
       "1  People     12:00         228.0\n",
       "2  People     14:00         226.0\n",
       "3  People     15:00         226.0\n",
       "4  People     11:00         212.0"
      ]
     },
     "execution_count": 6,
     "metadata": {},
     "output_type": "execute_result"
    }
   ],
   "source": [
    "# convert data and rename columns\n",
    "# преобразуем данные и переименовываем колонки\n",
    "time_visit_df=pd.DataFrame(get_list_of_dicts(metrika_data_1))\n",
    "time_visit_df.columns=['type','time_hour','visits_count']\n",
    "# check the correctness of the received data\n",
    "# проверяем корректность полученных данных\n",
    "time_visit_df.head(5)"
   ]
  },
  {
   "cell_type": "code",
   "execution_count": 7,
   "id": "e9fb8d95",
   "metadata": {},
   "outputs": [],
   "source": [
    "# creating a dataframe with bots only\n",
    "#создаём датафрейм только с ботами\n",
    "robot_time_visit_df=time_visit_df.query('type==\"Robots\"')"
   ]
  },
  {
   "cell_type": "code",
   "execution_count": 8,
   "id": "900645c9",
   "metadata": {
    "scrolled": true
   },
   "outputs": [
    {
     "data": {
      "text/plain": [
       "'Процент ботов от общего числа посететилей по источникам:'"
      ]
     },
     "metadata": {},
     "output_type": "display_data"
    },
    {
     "data": {
      "text/html": [
       "<div>\n",
       "<style scoped>\n",
       "    .dataframe tbody tr th:only-of-type {\n",
       "        vertical-align: middle;\n",
       "    }\n",
       "\n",
       "    .dataframe tbody tr th {\n",
       "        vertical-align: top;\n",
       "    }\n",
       "\n",
       "    .dataframe thead th {\n",
       "        text-align: right;\n",
       "    }\n",
       "</style>\n",
       "<table border=\"1\" class=\"dataframe\">\n",
       "  <thead>\n",
       "    <tr style=\"text-align: right;\">\n",
       "      <th></th>\n",
       "      <th>source</th>\n",
       "      <th>visits_count</th>\n",
       "      <th>percent_bots</th>\n",
       "    </tr>\n",
       "  </thead>\n",
       "  <tbody>\n",
       "    <tr>\n",
       "      <th>0</th>\n",
       "      <td>Google, search results</td>\n",
       "      <td>2471.0</td>\n",
       "      <td>25.738567</td>\n",
       "    </tr>\n",
       "    <tr>\n",
       "      <th>1</th>\n",
       "      <td>Yandex, search results</td>\n",
       "      <td>804.0</td>\n",
       "      <td>12.437811</td>\n",
       "    </tr>\n",
       "    <tr>\n",
       "      <th>2</th>\n",
       "      <td>Yandex Mobile</td>\n",
       "      <td>47.0</td>\n",
       "      <td>0.000000</td>\n",
       "    </tr>\n",
       "    <tr>\n",
       "      <th>3</th>\n",
       "      <td>Yandex: mobile app</td>\n",
       "      <td>5.0</td>\n",
       "      <td>0.000000</td>\n",
       "    </tr>\n",
       "    <tr>\n",
       "      <th>4</th>\n",
       "      <td>DuckDuckGo</td>\n",
       "      <td>4.0</td>\n",
       "      <td>75.000000</td>\n",
       "    </tr>\n",
       "    <tr>\n",
       "      <th>5</th>\n",
       "      <td>Google: mobile app</td>\n",
       "      <td>3.0</td>\n",
       "      <td>0.000000</td>\n",
       "    </tr>\n",
       "  </tbody>\n",
       "</table>\n",
       "</div>"
      ],
      "text/plain": [
       "                   source  visits_count  percent_bots\n",
       "0  Google, search results        2471.0     25.738567\n",
       "1  Yandex, search results         804.0     12.437811\n",
       "2           Yandex Mobile          47.0      0.000000\n",
       "3      Yandex: mobile app           5.0      0.000000\n",
       "4              DuckDuckGo           4.0     75.000000\n",
       "5      Google: mobile app           3.0      0.000000"
      ]
     },
     "metadata": {},
     "output_type": "display_data"
    },
    {
     "data": {
      "text/plain": [
       "<AxesSubplot:title={'center':'Количество посетителей ботов в разбивке по часам'}, xlabel='time_hour'>"
      ]
     },
     "metadata": {},
     "output_type": "display_data"
    },
    {
     "data": {
      "image/png": "[encoded data removed]",
      "text/plain": [
       "<Figure size 432x288 with 1 Axes>"
      ]
     },
     "metadata": {
      "needs_background": "light"
     },
     "output_type": "display_data"
    }
   ],
   "source": [
    "display('Процент ботов от общего числа посететилей по источникам:', robot_visits_percent_df)\n",
    "display(robot_time_visit_df.groupby('time_hour').sum().plot(kind = 'bar', title = 'Количество посетителей ботов в разбивке по часам'))"
   ]
  },
  {
   "cell_type": "markdown",
   "id": "a9f800a7",
   "metadata": {},
   "source": [
    "# Output:\n",
    "\n",
    "\n",
    "\n",
    "All automated queries (bots) come from search engines (Google, Yandex, DuckDuckGo) during working hours from 9 to 17 hours. Most of the requests presumably come from office work programs and search engine data aggregators."
   ]
  },
  {
   "cell_type": "markdown",
   "id": "6daa7c39",
   "metadata": {},
   "source": [
    "# Вывод:\n",
    "\n",
    "Все автоматезированые запросы (боты) приходят от поисковых систем (Google, Yandex, DuckDuckGo) в рабочее время с 9и до 17и часов. Большенство запросов предположительно исходит от офисных рабочих программ и агрегаторов данных поисковиков."
   ]
  }
 ],
 "metadata": {
  "kernelspec": {
   "display_name": "Python 3",
   "language": "python",
   "name": "python3"
  },
  "language_info": {
   "codemirror_mode": {
    "name": "ipython",
    "version": 3
   },
   "file_extension": ".py",
   "mimetype": "text/x-python",
   "name": "python",
   "nbconvert_exporter": "python",
   "pygments_lexer": "ipython3",
   "version": "3.8.8"
  }
 },
 "nbformat": 4,
 "nbformat_minor": 5
}
